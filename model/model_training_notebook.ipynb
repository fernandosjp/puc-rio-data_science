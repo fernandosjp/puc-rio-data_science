{
  "nbformat": 4,
  "nbformat_minor": 0,
  "metadata": {
    "colab": {
      "provenance": [],
      "authorship_tag": "ABX9TyM0xON7Jj/DCSYLHPSsGsPW",
      "include_colab_link": true
    },
    "kernelspec": {
      "name": "python3",
      "display_name": "Python 3"
    },
    "language_info": {
      "name": "python"
    }
  },
  "cells": [
    {
      "cell_type": "markdown",
      "metadata": {
        "id": "view-in-github",
        "colab_type": "text"
      },
      "source": [
        "<a href=\"https://colab.research.google.com/github/fernandosjp/puc-rio-data_science/blob/main/model/model_training_notebook.ipynb\" target=\"_parent\"><img src=\"https://colab.research.google.com/assets/colab-badge.svg\" alt=\"Open In Colab\"/></a>"
      ]
    },
    {
      "cell_type": "markdown",
      "source": [
        "# Criação de modelo para classificação de categoria de transações\n",
        "\n",
        "## Introdução\n",
        "Objetivo do modelo: classificar transações em categorias.\n",
        "\n",
        "Dataset: financial transactions categorized for personal finance purposes\n",
        "\n",
        "Notebook structure:\n",
        "\n",
        "1. Load and pre process data\n",
        "2. Select features and split into train and test datasets\n",
        "3. Training phase: Create pipelines, vecotrize text data, train model, tune hyper params and evaluate models\n",
        "4. Final evaluation: test against test data set (never seen data)\n",
        "5. Export model, label encoder and vectorizer\n",
        "6. Test against small sample\n",
        "7. Result Analysis\n",
        "\n"
      ],
      "metadata": {
        "id": "b6fN_75rjXu6"
      }
    },
    {
      "cell_type": "markdown",
      "source": [
        "# Import"
      ],
      "metadata": {
        "id": "B_vVPdBoUM4g"
      }
    },
    {
      "cell_type": "code",
      "execution_count": 1,
      "metadata": {
        "id": "1SsrhNSegIbd"
      },
      "outputs": [],
      "source": [
        "# do not show warnings\n",
        "import warnings\n",
        "warnings.filterwarnings(\"ignore\")\n",
        "\n",
        "# prompt: frame to train and solected machine learning model to classify transactions into categories\n",
        "\n",
        "import pandas as pd\n",
        "import seaborn as sns\n",
        "import time\n",
        "import matplotlib.pyplot as plt\n",
        "\n",
        "from sklearn.feature_extraction.text import TfidfVectorizer\n",
        "from sklearn.feature_extraction.text import CountVectorizer\n",
        "\n",
        "from sklearn.preprocessing import StandardScaler\n",
        "from sklearn.preprocessing import MinMaxScaler\n",
        "from sklearn.preprocessing import LabelEncoder\n",
        "\n",
        "from sklearn.neighbors import KNeighborsClassifier\n",
        "from sklearn.tree import DecisionTreeClassifier\n",
        "from sklearn.naive_bayes import GaussianNB\n",
        "from sklearn.naive_bayes import MultinomialNB\n",
        "from sklearn.svm import SVC\n",
        "\n",
        "from sklearn.pipeline import Pipeline\n",
        "\n",
        "from sklearn.model_selection import train_test_split\n",
        "from sklearn.model_selection import GridSearchCV\n",
        "from sklearn.model_selection import StratifiedKFold\n",
        "from sklearn.model_selection import cross_val_score\n",
        "\n",
        "from sklearn.metrics import classification_report\n",
        "from sklearn.metrics import accuracy_score"
      ]
    },
    {
      "cell_type": "markdown",
      "source": [
        "# Load and pre process data\n",
        "Here we will open the csv file and transform categories in labels."
      ],
      "metadata": {
        "id": "lbYeB8bZUV_w"
      }
    },
    {
      "cell_type": "code",
      "source": [
        "# Dataset URL\n",
        "url = \"https://raw.githubusercontent.com/fernandosjp/puc-rio-data_science/main/model/data/main.csv\"\n",
        "data = pd.read_csv(url, delimiter=',', encoding='utf-8')\n",
        "\n",
        "data['Description'] = data['Description'].values.astype('U')\n",
        "\n",
        "# Label categories\n",
        "label_encoder = LabelEncoder()\n",
        "data['label'] = label_encoder.fit_transform(data['Category'])\n",
        "\n",
        "# Mostra as primeiras linhas do dataset\n",
        "data.head()"
      ],
      "metadata": {
        "id": "o-_nUWP_UVeK",
        "colab": {
          "base_uri": "https://localhost:8080/",
          "height": 206
        },
        "outputId": "658709b1-c2f3-4b92-aa76-429471f56a25"
      },
      "execution_count": 2,
      "outputs": [
        {
          "output_type": "execute_result",
          "data": {
            "text/plain": [
              "                                         Description     Category  \\\n",
              "0  GAP Boys Grey & Black Printed Logo Chest-Strip...      Clothes   \n",
              "1  HP VH240a 23.8-Inch Full HD 1080p IPS LED Moni...  Electronics   \n",
              "2  Fire 7 tablet, 7\" display, 16 GB, latest model...  Electronics   \n",
              "3              Natural Rock Salt/Uppu - Sendha Namak         Food   \n",
              "4  2020 Apple MacBook Air with Apple M1 Chip (13-...  Electronics   \n",
              "\n",
              "   Sub_Category  label  \n",
              "0       Clothes      2  \n",
              "1      Computer      3  \n",
              "2  Tablet_Watch      3  \n",
              "3     Groceries      5  \n",
              "4      Computer      3  "
            ],
            "text/html": [
              "\n",
              "  <div id=\"df-1323ea63-ecaf-4ecf-946d-6b305031d04b\" class=\"colab-df-container\">\n",
              "    <div>\n",
              "<style scoped>\n",
              "    .dataframe tbody tr th:only-of-type {\n",
              "        vertical-align: middle;\n",
              "    }\n",
              "\n",
              "    .dataframe tbody tr th {\n",
              "        vertical-align: top;\n",
              "    }\n",
              "\n",
              "    .dataframe thead th {\n",
              "        text-align: right;\n",
              "    }\n",
              "</style>\n",
              "<table border=\"1\" class=\"dataframe\">\n",
              "  <thead>\n",
              "    <tr style=\"text-align: right;\">\n",
              "      <th></th>\n",
              "      <th>Description</th>\n",
              "      <th>Category</th>\n",
              "      <th>Sub_Category</th>\n",
              "      <th>label</th>\n",
              "    </tr>\n",
              "  </thead>\n",
              "  <tbody>\n",
              "    <tr>\n",
              "      <th>0</th>\n",
              "      <td>GAP Boys Grey &amp; Black Printed Logo Chest-Strip...</td>\n",
              "      <td>Clothes</td>\n",
              "      <td>Clothes</td>\n",
              "      <td>2</td>\n",
              "    </tr>\n",
              "    <tr>\n",
              "      <th>1</th>\n",
              "      <td>HP VH240a 23.8-Inch Full HD 1080p IPS LED Moni...</td>\n",
              "      <td>Electronics</td>\n",
              "      <td>Computer</td>\n",
              "      <td>3</td>\n",
              "    </tr>\n",
              "    <tr>\n",
              "      <th>2</th>\n",
              "      <td>Fire 7 tablet, 7\" display, 16 GB, latest model...</td>\n",
              "      <td>Electronics</td>\n",
              "      <td>Tablet_Watch</td>\n",
              "      <td>3</td>\n",
              "    </tr>\n",
              "    <tr>\n",
              "      <th>3</th>\n",
              "      <td>Natural Rock Salt/Uppu - Sendha Namak</td>\n",
              "      <td>Food</td>\n",
              "      <td>Groceries</td>\n",
              "      <td>5</td>\n",
              "    </tr>\n",
              "    <tr>\n",
              "      <th>4</th>\n",
              "      <td>2020 Apple MacBook Air with Apple M1 Chip (13-...</td>\n",
              "      <td>Electronics</td>\n",
              "      <td>Computer</td>\n",
              "      <td>3</td>\n",
              "    </tr>\n",
              "  </tbody>\n",
              "</table>\n",
              "</div>\n",
              "    <div class=\"colab-df-buttons\">\n",
              "\n",
              "  <div class=\"colab-df-container\">\n",
              "    <button class=\"colab-df-convert\" onclick=\"convertToInteractive('df-1323ea63-ecaf-4ecf-946d-6b305031d04b')\"\n",
              "            title=\"Convert this dataframe to an interactive table.\"\n",
              "            style=\"display:none;\">\n",
              "\n",
              "  <svg xmlns=\"http://www.w3.org/2000/svg\" height=\"24px\" viewBox=\"0 -960 960 960\">\n",
              "    <path d=\"M120-120v-720h720v720H120Zm60-500h600v-160H180v160Zm220 220h160v-160H400v160Zm0 220h160v-160H400v160ZM180-400h160v-160H180v160Zm440 0h160v-160H620v160ZM180-180h160v-160H180v160Zm440 0h160v-160H620v160Z\"/>\n",
              "  </svg>\n",
              "    </button>\n",
              "\n",
              "  <style>\n",
              "    .colab-df-container {\n",
              "      display:flex;\n",
              "      gap: 12px;\n",
              "    }\n",
              "\n",
              "    .colab-df-convert {\n",
              "      background-color: #E8F0FE;\n",
              "      border: none;\n",
              "      border-radius: 50%;\n",
              "      cursor: pointer;\n",
              "      display: none;\n",
              "      fill: #1967D2;\n",
              "      height: 32px;\n",
              "      padding: 0 0 0 0;\n",
              "      width: 32px;\n",
              "    }\n",
              "\n",
              "    .colab-df-convert:hover {\n",
              "      background-color: #E2EBFA;\n",
              "      box-shadow: 0px 1px 2px rgba(60, 64, 67, 0.3), 0px 1px 3px 1px rgba(60, 64, 67, 0.15);\n",
              "      fill: #174EA6;\n",
              "    }\n",
              "\n",
              "    .colab-df-buttons div {\n",
              "      margin-bottom: 4px;\n",
              "    }\n",
              "\n",
              "    [theme=dark] .colab-df-convert {\n",
              "      background-color: #3B4455;\n",
              "      fill: #D2E3FC;\n",
              "    }\n",
              "\n",
              "    [theme=dark] .colab-df-convert:hover {\n",
              "      background-color: #434B5C;\n",
              "      box-shadow: 0px 1px 3px 1px rgba(0, 0, 0, 0.15);\n",
              "      filter: drop-shadow(0px 1px 2px rgba(0, 0, 0, 0.3));\n",
              "      fill: #FFFFFF;\n",
              "    }\n",
              "  </style>\n",
              "\n",
              "    <script>\n",
              "      const buttonEl =\n",
              "        document.querySelector('#df-1323ea63-ecaf-4ecf-946d-6b305031d04b button.colab-df-convert');\n",
              "      buttonEl.style.display =\n",
              "        google.colab.kernel.accessAllowed ? 'block' : 'none';\n",
              "\n",
              "      async function convertToInteractive(key) {\n",
              "        const element = document.querySelector('#df-1323ea63-ecaf-4ecf-946d-6b305031d04b');\n",
              "        const dataTable =\n",
              "          await google.colab.kernel.invokeFunction('convertToInteractive',\n",
              "                                                    [key], {});\n",
              "        if (!dataTable) return;\n",
              "\n",
              "        const docLinkHtml = 'Like what you see? Visit the ' +\n",
              "          '<a target=\"_blank\" href=https://colab.research.google.com/notebooks/data_table.ipynb>data table notebook</a>'\n",
              "          + ' to learn more about interactive tables.';\n",
              "        element.innerHTML = '';\n",
              "        dataTable['output_type'] = 'display_data';\n",
              "        await google.colab.output.renderOutput(dataTable, element);\n",
              "        const docLink = document.createElement('div');\n",
              "        docLink.innerHTML = docLinkHtml;\n",
              "        element.appendChild(docLink);\n",
              "      }\n",
              "    </script>\n",
              "  </div>\n",
              "\n",
              "\n",
              "<div id=\"df-ac47b5c5-f0ad-4d32-9a28-a5dae20636d9\">\n",
              "  <button class=\"colab-df-quickchart\" onclick=\"quickchart('df-ac47b5c5-f0ad-4d32-9a28-a5dae20636d9')\"\n",
              "            title=\"Suggest charts\"\n",
              "            style=\"display:none;\">\n",
              "\n",
              "<svg xmlns=\"http://www.w3.org/2000/svg\" height=\"24px\"viewBox=\"0 0 24 24\"\n",
              "     width=\"24px\">\n",
              "    <g>\n",
              "        <path d=\"M19 3H5c-1.1 0-2 .9-2 2v14c0 1.1.9 2 2 2h14c1.1 0 2-.9 2-2V5c0-1.1-.9-2-2-2zM9 17H7v-7h2v7zm4 0h-2V7h2v10zm4 0h-2v-4h2v4z\"/>\n",
              "    </g>\n",
              "</svg>\n",
              "  </button>\n",
              "\n",
              "<style>\n",
              "  .colab-df-quickchart {\n",
              "      --bg-color: #E8F0FE;\n",
              "      --fill-color: #1967D2;\n",
              "      --hover-bg-color: #E2EBFA;\n",
              "      --hover-fill-color: #174EA6;\n",
              "      --disabled-fill-color: #AAA;\n",
              "      --disabled-bg-color: #DDD;\n",
              "  }\n",
              "\n",
              "  [theme=dark] .colab-df-quickchart {\n",
              "      --bg-color: #3B4455;\n",
              "      --fill-color: #D2E3FC;\n",
              "      --hover-bg-color: #434B5C;\n",
              "      --hover-fill-color: #FFFFFF;\n",
              "      --disabled-bg-color: #3B4455;\n",
              "      --disabled-fill-color: #666;\n",
              "  }\n",
              "\n",
              "  .colab-df-quickchart {\n",
              "    background-color: var(--bg-color);\n",
              "    border: none;\n",
              "    border-radius: 50%;\n",
              "    cursor: pointer;\n",
              "    display: none;\n",
              "    fill: var(--fill-color);\n",
              "    height: 32px;\n",
              "    padding: 0;\n",
              "    width: 32px;\n",
              "  }\n",
              "\n",
              "  .colab-df-quickchart:hover {\n",
              "    background-color: var(--hover-bg-color);\n",
              "    box-shadow: 0 1px 2px rgba(60, 64, 67, 0.3), 0 1px 3px 1px rgba(60, 64, 67, 0.15);\n",
              "    fill: var(--button-hover-fill-color);\n",
              "  }\n",
              "\n",
              "  .colab-df-quickchart-complete:disabled,\n",
              "  .colab-df-quickchart-complete:disabled:hover {\n",
              "    background-color: var(--disabled-bg-color);\n",
              "    fill: var(--disabled-fill-color);\n",
              "    box-shadow: none;\n",
              "  }\n",
              "\n",
              "  .colab-df-spinner {\n",
              "    border: 2px solid var(--fill-color);\n",
              "    border-color: transparent;\n",
              "    border-bottom-color: var(--fill-color);\n",
              "    animation:\n",
              "      spin 1s steps(1) infinite;\n",
              "  }\n",
              "\n",
              "  @keyframes spin {\n",
              "    0% {\n",
              "      border-color: transparent;\n",
              "      border-bottom-color: var(--fill-color);\n",
              "      border-left-color: var(--fill-color);\n",
              "    }\n",
              "    20% {\n",
              "      border-color: transparent;\n",
              "      border-left-color: var(--fill-color);\n",
              "      border-top-color: var(--fill-color);\n",
              "    }\n",
              "    30% {\n",
              "      border-color: transparent;\n",
              "      border-left-color: var(--fill-color);\n",
              "      border-top-color: var(--fill-color);\n",
              "      border-right-color: var(--fill-color);\n",
              "    }\n",
              "    40% {\n",
              "      border-color: transparent;\n",
              "      border-right-color: var(--fill-color);\n",
              "      border-top-color: var(--fill-color);\n",
              "    }\n",
              "    60% {\n",
              "      border-color: transparent;\n",
              "      border-right-color: var(--fill-color);\n",
              "    }\n",
              "    80% {\n",
              "      border-color: transparent;\n",
              "      border-right-color: var(--fill-color);\n",
              "      border-bottom-color: var(--fill-color);\n",
              "    }\n",
              "    90% {\n",
              "      border-color: transparent;\n",
              "      border-bottom-color: var(--fill-color);\n",
              "    }\n",
              "  }\n",
              "</style>\n",
              "\n",
              "  <script>\n",
              "    async function quickchart(key) {\n",
              "      const quickchartButtonEl =\n",
              "        document.querySelector('#' + key + ' button');\n",
              "      quickchartButtonEl.disabled = true;  // To prevent multiple clicks.\n",
              "      quickchartButtonEl.classList.add('colab-df-spinner');\n",
              "      try {\n",
              "        const charts = await google.colab.kernel.invokeFunction(\n",
              "            'suggestCharts', [key], {});\n",
              "      } catch (error) {\n",
              "        console.error('Error during call to suggestCharts:', error);\n",
              "      }\n",
              "      quickchartButtonEl.classList.remove('colab-df-spinner');\n",
              "      quickchartButtonEl.classList.add('colab-df-quickchart-complete');\n",
              "    }\n",
              "    (() => {\n",
              "      let quickchartButtonEl =\n",
              "        document.querySelector('#df-ac47b5c5-f0ad-4d32-9a28-a5dae20636d9 button');\n",
              "      quickchartButtonEl.style.display =\n",
              "        google.colab.kernel.accessAllowed ? 'block' : 'none';\n",
              "    })();\n",
              "  </script>\n",
              "</div>\n",
              "\n",
              "    </div>\n",
              "  </div>\n"
            ],
            "application/vnd.google.colaboratory.intrinsic+json": {
              "type": "dataframe",
              "variable_name": "data",
              "summary": "{\n  \"name\": \"data\",\n  \"rows\": 56512,\n  \"fields\": [\n    {\n      \"column\": \"Description\",\n      \"properties\": {\n        \"dtype\": \"string\",\n        \"num_unique_values\": 44602,\n        \"samples\": [\n          \"WROGN Men Navy Blue Solid Slim Fit Denim Jacket\",\n          \"Cheerios Cups, Gluten Free Cereal, Whole Grain Oats, 1.3 oz\",\n          \"N-DESTRUCTIBLE CRUMB BUMPER PLATES- RECYCLED RUBBER (45LB Pair)\"\n        ],\n        \"semantic_type\": \"\",\n        \"description\": \"\"\n      }\n    },\n    {\n      \"column\": \"Category\",\n      \"properties\": {\n        \"dtype\": \"category\",\n        \"num_unique_values\": 11,\n        \"samples\": [\n          \"Auto\",\n          \"Clothes\",\n          \"Baby\"\n        ],\n        \"semantic_type\": \"\",\n        \"description\": \"\"\n      }\n    },\n    {\n      \"column\": \"Sub_Category\",\n      \"properties\": {\n        \"dtype\": \"category\",\n        \"num_unique_values\": 41,\n        \"samples\": [\n          \"Electronics_misc\",\n          \"Accessories\",\n          \"Pet_Food\"\n        ],\n        \"semantic_type\": \"\",\n        \"description\": \"\"\n      }\n    },\n    {\n      \"column\": \"label\",\n      \"properties\": {\n        \"dtype\": \"number\",\n        \"std\": 2,\n        \"min\": 0,\n        \"max\": 10,\n        \"num_unique_values\": 11,\n        \"samples\": [\n          0,\n          2,\n          1\n        ],\n        \"semantic_type\": \"\",\n        \"description\": \"\"\n      }\n    }\n  ]\n}"
            }
          },
          "metadata": {},
          "execution_count": 2
        }
      ]
    },
    {
      "cell_type": "markdown",
      "source": [
        "# Select features and split train and test datasets"
      ],
      "metadata": {
        "id": "iPBhwtA0U8CS"
      }
    },
    {
      "cell_type": "code",
      "source": [
        "# Define params\n",
        "test_size = 0.2\n",
        "random_state = 42\n",
        "\n",
        "# Select relevant features and target variable\n",
        "features = ['Description']\n",
        "target = ['label']\n",
        "\n",
        "X = data[features]\n",
        "y = data[target]\n",
        "\n",
        "# Split the dataset into train and test sets\n",
        "X_train, X_test, y_train, y_test = train_test_split(X, y, test_size=test_size, random_state=random_state, )"
      ],
      "metadata": {
        "id": "x2A7UYuHU7Du"
      },
      "execution_count": 8,
      "outputs": []
    },
    {
      "cell_type": "markdown",
      "source": [
        "# Training phase\n",
        "In the training phase we will use train dataset along with cross valiation to train the model and tune hyper parameters. It includes:\n",
        "- Creating pipelines\n",
        "- vectorize text data\n",
        "- train models\n",
        "- tune hyperparameters\n",
        "- evaluate models usign cross validation\n",
        "\n",
        "Output:\n",
        "\n",
        "- KNN:\n",
        "  - Accuracy 0.801 mean (0.005 std) - trained time: 0h2min46.249349s\n",
        "  - Pipeline(steps=[('KNN', KNeighborsClassifier(n_neighbors=7))])\n",
        "\n",
        "- CART:\n",
        "  - Accuracy 0.909 mean (0.004 std) - trained time: 0h3min47.721383s\n",
        "  - Pipeline(steps=[('CART', DecisionTreeClassifier())])\n",
        "\n",
        "- NB:\n",
        "  - Accuracy 0.945 mean (0.003 std) - trained time: 0h0min0.974213s\n",
        "  - Pipeline(steps=[('NB', MultinomialNB())])\n",
        "\n",
        "- KNN-std:\n",
        "  - Accuracy 0.704 mean (0.006 std) - trained time: 0h15min1.596182s\n",
        "  - Pipeline(steps=[('StandardScaler', StandardScaler(with_mean=False)),('KNN', KNeighborsClassifier(n_neighbors=7))])\n",
        "- CART-std:\n",
        "  - Accuracy 0.908 mean (0.005 std) - trained time: 0h3min37.169367s\n",
        "  - Pipeline(steps=[('StandardScaler', StandardScaler(with_mean=False)),('CART', DecisionTreeClassifier())])\n",
        "- NB-std:\n",
        "    - Accuracy 0.896 mean (0.005 std) - trained time: 0h0min1.468813s\n",
        "    - Pipeline(steps=[('StandardScaler', StandardScaler(with_mean=False)),('NB', MultinomialNB())])\n",
        "\n",
        "Total elapsed time: 0h25min15.191277s\n",
        "\n"
      ],
      "metadata": {
        "id": "i1VKosp-Zr2V"
      }
    },
    {
      "cell_type": "code",
      "source": [
        "# Parâmetros e partições da validação cruzada\n",
        "scoring = 'accuracy'\n",
        "kfold = StratifiedKFold(n_splits=10, shuffle=True, random_state=random_state) # validação cruzada com estratificação\n",
        "\n",
        "results = []\n",
        "pipelines = []\n",
        "names = []\n",
        "\n",
        "# Models\n",
        "knn = ('KNN', KNeighborsClassifier())\n",
        "cart =  ('CART', DecisionTreeClassifier())\n",
        "nb = ('NB', MultinomialNB())\n",
        "svm = ('SVM', SVC(probability=True))\n",
        "\n",
        "# Scalers\n",
        "standard_scaler = ('StandardScaler', StandardScaler(with_mean=False))\n",
        "min_max_scaler = ('MinMaxScaler', MinMaxScaler())\n",
        "\n",
        "# Vectorize text data\n",
        "vectorizer = CountVectorizer()\n",
        "X_train_vec = vectorizer.fit_transform(X_train.Description)\n",
        "X_test_vec = vectorizer.transform(X_test)\n",
        "\n",
        "# Create pipelines for different models\n",
        "pipelines.append(('KNN', Pipeline([knn])))\n",
        "pipelines.append(('CART', Pipeline([cart])))\n",
        "pipelines.append(('NB', Pipeline([nb])))\n",
        "# pipelines.append(('SVM', Pipeline([svm]))) # Removed due to performance issue\n",
        "pipelines.append(('KNN-std', Pipeline([standard_scaler, knn])))\n",
        "pipelines.append(('CART-std', Pipeline([standard_scaler, cart])))\n",
        "pipelines.append(('NB-std', Pipeline([standard_scaler, nb])))\n",
        "# pipelines.append(('SVM-std', Pipeline([standard_scaler, svm]))) # Removed due to performance issue\n",
        "\n",
        "# Perform grid search and evaluate models\n",
        "# Define hyperparameters for grid search\n",
        "param_grids = {\n",
        "    'KNN': {'KNN__n_neighbors': [7, 14]},\n",
        "    'CART': {'CART__max_depth': [None, 5, 10]},\n",
        "    'NB': {},  # No hyperparameters for Gaussian Naive Bayes\n",
        "    'SVM': {'SVM__C': [0.1, 1], 'SVM__kernel': ['linear']},\n",
        "    'KNN-std': {'KNN__n_neighbors': [7, 14]},\n",
        "    'CART-std': {'CART__max_depth': [None, 5, 10]},\n",
        "    'NB-std': {},  # No hyperparameters for Gaussian Naive Bayes\n",
        "    'SVM-std': {'SVM__C': [0.1, 1], 'SVM__kernel': ['linear']},\n",
        "}\n",
        "best_models = {}\n",
        "\n",
        "# Start total timer\n",
        "start_time = time.perf_counter()\n",
        "for name, model in pipelines:\n",
        "    # Start the timer\n",
        "    start_model_time = time.perf_counter()\n",
        "\n",
        "    # Tune hyper parameters\n",
        "    grid_search = GridSearchCV(model, param_grids[name], scoring=scoring, cv=kfold)\n",
        "    grid_search.fit(X_train_vec, y_train)\n",
        "    best_models[name] = grid_search.best_estimator_\n",
        "\n",
        "    # Run Cross validation and calculate accuracy on training dataset\n",
        "    cv_results = cross_val_score(best_models[name], X_train_vec, y_train, cv=kfold, scoring=scoring)\n",
        "    results.append(cv_results)\n",
        "    names.append(name)\n",
        "\n",
        "    # Stop the timer\n",
        "    end_model_time = time.perf_counter()\n",
        "\n",
        "    # Calculate the elapsed time\n",
        "    elapsed_model_time = end_model_time - start_model_time\n",
        "    hours, remainder = divmod(elapsed_model_time, 3600)\n",
        "    minutes, seconds = divmod(remainder, 60)\n",
        "\n",
        "    # Print messagem\n",
        "    msg = f\"{name}: accuracy {cv_results.mean():.3f} mean ({cv_results.std():.3f} std) - trained time: {int(hours)}h{int(minutes)}min{seconds:.6f}s\" # formatando para 3 casas decimais\n",
        "    print(msg)\n",
        "    print(f\"{grid_search.best_estimator_}\\n\")\n",
        "\n",
        "# Stop the timer\n",
        "end_time = time.perf_counter()\n",
        "\n",
        "# Calculate the elapsed time\n",
        "elapsed_time = end_time - start_time\n",
        "hours, remainder = divmod(elapsed_time, 3600)\n",
        "minutes, seconds = divmod(remainder, 60)\n",
        "\n",
        "print(f\"Total elapsed time: {int(hours)}h{int(minutes)}min{seconds:.6f}s\")"
      ],
      "metadata": {
        "colab": {
          "base_uri": "https://localhost:8080/"
        },
        "id": "3iqtWLmqZqio",
        "outputId": "b8730655-fecb-4bd1-83da-0f865327285e"
      },
      "execution_count": 9,
      "outputs": [
        {
          "output_type": "stream",
          "name": "stdout",
          "text": [
            "KNN: accuracy 0.801 mean (0.005 std) - trained time: 0h2min46.249349s\n",
            "Pipeline(steps=[('KNN', KNeighborsClassifier(n_neighbors=7))])\n",
            "\n",
            "CART: accuracy 0.909 mean (0.004 std) - trained time: 0h3min47.721383s\n",
            "Pipeline(steps=[('CART', DecisionTreeClassifier())])\n",
            "\n",
            "NB: accuracy 0.945 mean (0.003 std) - trained time: 0h0min0.974213s\n",
            "Pipeline(steps=[('NB', MultinomialNB())])\n",
            "\n",
            "KNN-std: accuracy 0.704 mean (0.006 std) - trained time: 0h15min1.596182s\n",
            "Pipeline(steps=[('StandardScaler', StandardScaler(with_mean=False)),\n",
            "                ('KNN', KNeighborsClassifier(n_neighbors=7))])\n",
            "\n",
            "CART-std: accuracy 0.908 mean (0.005 std) - trained time: 0h3min37.169367s\n",
            "Pipeline(steps=[('StandardScaler', StandardScaler(with_mean=False)),\n",
            "                ('CART', DecisionTreeClassifier())])\n",
            "\n",
            "NB-std: accuracy 0.896 mean (0.005 std) - trained time: 0h0min1.468813s\n",
            "Pipeline(steps=[('StandardScaler', StandardScaler(with_mean=False)),\n",
            "                ('NB', MultinomialNB())])\n",
            "\n",
            "Total elapsed time: 0h25min15.191277s\n"
          ]
        }
      ]
    },
    {
      "cell_type": "markdown",
      "source": [
        "# Model Evaluation\n",
        "In this session we will plot results from training phase in order to evaluate model performance and be able to choose the winner model."
      ],
      "metadata": {
        "id": "Rt0uOMkb4PE7"
      }
    },
    {
      "cell_type": "code",
      "source": [
        "# Boxplot de comparação dos modelos\n",
        "fig = plt.figure(figsize=(25,6))\n",
        "fig.suptitle('Comparing model accuracy')\n",
        "ax = fig.add_subplot(111)\n",
        "plt.boxplot(results)\n",
        "ax.set_xticklabels(names, rotation=90)\n",
        "plt.show()"
      ],
      "metadata": {
        "colab": {
          "base_uri": "https://localhost:8080/",
          "height": 437
        },
        "id": "fX4eYFzE4SZx",
        "outputId": "1d7bbfd5-7cc2-4bf2-9c7d-384c88fab4e9"
      },
      "execution_count": 10,
      "outputs": [
        {
          "output_type": "display_data",
          "data": {
            "text/plain": [
              "<Figure size 2500x600 with 1 Axes>"
            ],
            "image/png": "[encoded data removed]"
          },
          "metadata": {}
        }
      ]
    },
    {
      "cell_type": "markdown",
      "source": [
        "# Final Evaluation against test dataset\n",
        "After evaluating model performance usign kfold on training dataset we will test the models against an unbiased test dataset to have a final opinion if our model was capable of generalize well of it overfitted during training phase .\n",
        "\n",
        "Output:\n",
        "- Model name: KNN and Test Accuracy:0.80\n",
        "- Model name: CART and Test Accuracy:0.91\n",
        "- Model name: NB and Test Accuracy:0.95\n",
        "- Model name: KNN-std and Test Accuracy:0.72\n",
        "- Model name: CART-std and Test Accuracy:0.91\n",
        "- Model name: NB-std and Test Accuracy:0.89"
      ],
      "metadata": {
        "id": "ihY320pefJuj"
      }
    },
    {
      "cell_type": "code",
      "source": [
        "# Calculate Accuracy of test Dataset\n",
        "# transform the test dataset\n",
        "X_test_vec = vectorizer.transform(X_test.Description)\n",
        "\n",
        "# Accuracy on test dataset\n",
        "for name, model in pipelines:\n",
        "  # make predictions on the test set\n",
        "  yhat = best_models[name].predict(X_test_vec)\n",
        "\n",
        "  # evaluate accuracy\n",
        "  acc = accuracy_score(y_test, yhat)\n",
        "  print(f'Model name: {name} and Test Accuracy:{acc:.2f}')"
      ],
      "metadata": {
        "colab": {
          "base_uri": "https://localhost:8080/"
        },
        "id": "5rcRbBWofNTJ",
        "outputId": "392ad211-ad8b-41a4-aa4b-72ab0c535be3"
      },
      "execution_count": 11,
      "outputs": [
        {
          "output_type": "stream",
          "name": "stdout",
          "text": [
            "Model name: KNN and Test Accuracy:0.80\n",
            "Model name: CART and Test Accuracy:0.91\n",
            "Model name: NB and Test Accuracy:0.95\n",
            "Model name: KNN-std and Test Accuracy:0.72\n",
            "Model name: CART-std and Test Accuracy:0.91\n",
            "Model name: NB-std and Test Accuracy:0.89\n"
          ]
        }
      ]
    },
    {
      "cell_type": "code",
      "source": [
        "# Classification report\n",
        "for name, model in pipelines:\n",
        "  # make predictions on the test set\n",
        "  yhat = best_models[name].predict(X_test_vec)\n",
        "  print(f\"Classification Report for {name}:\")\n",
        "  print(classification_report(y_test, yhat))"
      ],
      "metadata": {
        "collapsed": true,
        "id": "qvMrNjHotOqL"
      },
      "execution_count": null,
      "outputs": []
    },
    {
      "cell_type": "markdown",
      "source": [
        "# Select model and export model, label encoder and vectorizer"
      ],
      "metadata": {
        "id": "P9tWWnZIa200"
      }
    },
    {
      "cell_type": "code",
      "source": [
        "from joblib import dump\n",
        "from joblib import load"
      ],
      "metadata": {
        "id": "sIj-lRCba6cl"
      },
      "execution_count": null,
      "outputs": []
    },
    {
      "cell_type": "code",
      "source": [
        "# Selected model\n",
        "selected_model_name = 'NB'\n",
        "\n",
        "# save the model\n",
        "dump(best_models[name], open('model.joblib', 'wb'))\n",
        "# save the vectorizer\n",
        "dump(vectorizer, open('vectorizer.joblib', 'wb'))\n",
        "# save the label encoder\n",
        "dump(label_encoder, open('label_encoder.joblib', 'wb'))"
      ],
      "metadata": {
        "id": "GufFlgl2kuKX"
      },
      "execution_count": 14,
      "outputs": []
    },
    {
      "cell_type": "markdown",
      "source": [
        "# Simulate model usage on small sample"
      ],
      "metadata": {
        "id": "BO0xffvckjXo"
      }
    },
    {
      "cell_type": "code",
      "source": [
        "# load the model\n",
        "model_joblib = load(open('model.joblib', 'rb'))\n",
        "# load the vectorizer\n",
        "vectorizer_joblib = load(open('vectorizer.joblib', 'rb'))\n",
        "# load the label encoder\n",
        "label_encoder_joblib = load(open('label_encoder.joblib', 'rb'))"
      ],
      "metadata": {
        "id": "gOf7H-D3bN9i"
      },
      "execution_count": 15,
      "outputs": []
    },
    {
      "cell_type": "code",
      "source": [
        "# Testing model with ramdom descriptions\n",
        "test_dict = {'Description':  [\"Nike\", \"McDonalds\", \"Groceries\", \"Market\", \"Gas\"]}\n",
        "test_data = pd.DataFrame.from_dict(test_dict)\n",
        "test_data_vec = vectorizer.transform(test_data.Description)\n",
        "\n",
        "# Predição de classes dos dados de entrada\n",
        "y_pred = model_joblib.predict(test_data_vec)\n",
        "decoded_labels = label_encoder_joblib.inverse_transform(y_pred)\n",
        "print(decoded_labels)"
      ],
      "metadata": {
        "colab": {
          "base_uri": "https://localhost:8080/"
        },
        "id": "ZivcAssCnJx0",
        "outputId": "987a3b3f-c049-414b-9da6-e397dcb288be"
      },
      "execution_count": 17,
      "outputs": [
        {
          "output_type": "stream",
          "name": "stdout",
          "text": [
            "['Clothes' 'Food' 'Food' 'Home' 'Auto']\n"
          ]
        }
      ]
    },
    {
      "cell_type": "markdown",
      "source": [
        "# Result Analysis\n",
        "\n",
        "- the model selected was the Multinomial Naive Bayes since it reached the highest accuracy on cross validation and kept its performance on test dataset.\n",
        "- an interesting point is that I observed that standartization worsened model performance in our case. I understood that the reason is that vectorizing the descriptions was already\n",
        "- attention points:\n",
        "  - I was not able to train SVM due to performance issues in Colab. It timed out twice and decided to exclude the SVM from the competing models\n",
        "  - another thing is that we used only classical models but it would also be interesting to try LLMs and newer models to check how they perform in this classification problem"
      ],
      "metadata": {
        "id": "yTbxMPYR7P0m"
      }
    },
    {
      "cell_type": "code",
      "source": [],
      "metadata": {
        "id": "Dwe5JcouzZME"
      },
      "execution_count": null,
      "outputs": []
    }
  ]
}