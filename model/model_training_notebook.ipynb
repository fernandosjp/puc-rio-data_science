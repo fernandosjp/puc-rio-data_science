{
  "nbformat": 4,
  "nbformat_minor": 0,
  "metadata": {
    "colab": {
      "provenance": [],
      "authorship_tag": "ABX9TyONENzFbBeVAYa0owJGV1Gt",
      "include_colab_link": true
    },
    "kernelspec": {
      "name": "python3",
      "display_name": "Python 3"
    },
    "language_info": {
      "name": "python"
    }
  },
  "cells": [
    {
      "cell_type": "markdown",
      "metadata": {
        "id": "view-in-github",
        "colab_type": "text"
      },
      "source": [
        "<a href=\"https://colab.research.google.com/github/fernandosjp/puc-rio-data_science/blob/main/model/model_training_notebook.ipynb\" target=\"_parent\"><img src=\"https://colab.research.google.com/assets/colab-badge.svg\" alt=\"Open In Colab\"/></a>"
      ]
    },
    {
      "cell_type": "markdown",
      "source": [
        "# Criação de modelo para classificação de categoria de transações\n",
        "\n",
        "## Introdução\n",
        "Objetivo do modelo: classificar transações em categorias.\n",
        "\n",
        "Dataset: financial transactions categorized for personal finance purposes\n",
        "\n",
        "Notebook structure:\n",
        "\n",
        "1. Load and pre process data\n",
        "2. Select features and split into train and test datasets\n",
        "3. Training phase: Create pipelines, vecotrize text data, train model, tune hyper params and evaluate models\n",
        "\n",
        "- exportação do modelo resultante.\n",
        "\n",
        "TODOS:\n",
        "- Levar test dataset para teste na aplicação\n",
        "- Subir notebook para o github e testar como acessá-lo para rodar treinamento de modelo\n",
        "- incluir test de modelo BERT ou LLM"
      ],
      "metadata": {
        "id": "b6fN_75rjXu6"
      }
    },
    {
      "cell_type": "markdown",
      "source": [
        "# Import"
      ],
      "metadata": {
        "id": "B_vVPdBoUM4g"
      }
    },
    {
      "cell_type": "code",
      "execution_count": 1,
      "metadata": {
        "id": "1SsrhNSegIbd"
      },
      "outputs": [],
      "source": [
        "# do not show warnings\n",
        "import warnings\n",
        "warnings.filterwarnings(\"ignore\")\n",
        "\n",
        "# prompt: frame to train and solected machine learning model to classify transactions into categories\n",
        "\n",
        "import pandas as pd\n",
        "import seaborn as sns\n",
        "import matplotlib.pyplot as plt\n",
        "\n",
        "from sklearn.feature_extraction.text import TfidfVectorizer\n",
        "from sklearn.feature_extraction.text import CountVectorizer\n",
        "\n",
        "from sklearn.preprocessing import StandardScaler\n",
        "from sklearn.preprocessing import MinMaxScaler\n",
        "from sklearn.preprocessing import LabelEncoder\n",
        "\n",
        "from sklearn.neighbors import KNeighborsClassifier\n",
        "from sklearn.tree import DecisionTreeClassifier\n",
        "from sklearn.naive_bayes import GaussianNB\n",
        "from sklearn.naive_bayes import MultinomialNB\n",
        "from sklearn.svm import SVC\n",
        "\n",
        "from sklearn.pipeline import Pipeline\n",
        "\n",
        "from sklearn.model_selection import train_test_split\n",
        "from sklearn.model_selection import GridSearchCV\n",
        "from sklearn.model_selection import StratifiedKFold\n",
        "from sklearn.model_selection import cross_val_score\n",
        "\n",
        "from sklearn.metrics import classification_report\n",
        "from sklearn.metrics import accuracy_score"
      ]
    },
    {
      "cell_type": "markdown",
      "source": [
        "# Load and pre process data\n",
        "Here we will open the csv file and transform categories in labels."
      ],
      "metadata": {
        "id": "lbYeB8bZUV_w"
      }
    },
    {
      "cell_type": "code",
      "source": [
        "# Dataset URL\n",
        "url = \"https://raw.githubusercontent.com/fernandosjp/puc-rio-data_science/main/model/data/main.csv\"\n",
        "data = pd.read_csv(url, delimiter=',', encoding='utf-8')\n",
        "\n",
        "data['Description'] = data['Description'].values.astype('U')\n",
        "\n",
        "# Label categories\n",
        "label_encoder = LabelEncoder()\n",
        "data['label'] = label_encoder.fit_transform(data['Category'])\n",
        "\n",
        "# Mostra as primeiras linhas do dataset\n",
        "data.head()"
      ],
      "metadata": {
        "id": "o-_nUWP_UVeK",
        "colab": {
          "base_uri": "https://localhost:8080/",
          "height": 206
        },
        "outputId": "7425c19b-bcc0-457d-df93-c1791c468f6c"
      },
      "execution_count": 3,
      "outputs": [
        {
          "output_type": "execute_result",
          "data": {
            "text/plain": [
              "                                         Description     Category  \\\n",
              "0  amFilm Tempered Glass Screen Protector for Nin...  Electronics   \n",
              "1  Power Strip with USB, TESSAN Mountable Flat Pl...  Electronics   \n",
              "2  USB Wall Charger, Surge Protector, POWRUI 6-Ou...  Electronics   \n",
              "3  Anker Power Strip with USB, PowerPort Cube USB...  Electronics   \n",
              "4  USB Wall Charger, Surge Protector, 5 Outlet Ex...  Electronics   \n",
              "\n",
              "  Sub_Category  label  \n",
              "0  Accessories      3  \n",
              "1  Accessories      3  \n",
              "2  Accessories      3  \n",
              "3  Accessories      3  \n",
              "4  Accessories      3  "
            ],
            "text/html": [
              "\n",
              "  <div id=\"df-e74358ba-56bc-46bf-9b17-464d7c6d2496\" class=\"colab-df-container\">\n",
              "    <div>\n",
              "<style scoped>\n",
              "    .dataframe tbody tr th:only-of-type {\n",
              "        vertical-align: middle;\n",
              "    }\n",
              "\n",
              "    .dataframe tbody tr th {\n",
              "        vertical-align: top;\n",
              "    }\n",
              "\n",
              "    .dataframe thead th {\n",
              "        text-align: right;\n",
              "    }\n",
              "</style>\n",
              "<table border=\"1\" class=\"dataframe\">\n",
              "  <thead>\n",
              "    <tr style=\"text-align: right;\">\n",
              "      <th></th>\n",
              "      <th>Description</th>\n",
              "      <th>Category</th>\n",
              "      <th>Sub_Category</th>\n",
              "      <th>label</th>\n",
              "    </tr>\n",
              "  </thead>\n",
              "  <tbody>\n",
              "    <tr>\n",
              "      <th>0</th>\n",
              "      <td>amFilm Tempered Glass Screen Protector for Nin...</td>\n",
              "      <td>Electronics</td>\n",
              "      <td>Accessories</td>\n",
              "      <td>3</td>\n",
              "    </tr>\n",
              "    <tr>\n",
              "      <th>1</th>\n",
              "      <td>Power Strip with USB, TESSAN Mountable Flat Pl...</td>\n",
              "      <td>Electronics</td>\n",
              "      <td>Accessories</td>\n",
              "      <td>3</td>\n",
              "    </tr>\n",
              "    <tr>\n",
              "      <th>2</th>\n",
              "      <td>USB Wall Charger, Surge Protector, POWRUI 6-Ou...</td>\n",
              "      <td>Electronics</td>\n",
              "      <td>Accessories</td>\n",
              "      <td>3</td>\n",
              "    </tr>\n",
              "    <tr>\n",
              "      <th>3</th>\n",
              "      <td>Anker Power Strip with USB, PowerPort Cube USB...</td>\n",
              "      <td>Electronics</td>\n",
              "      <td>Accessories</td>\n",
              "      <td>3</td>\n",
              "    </tr>\n",
              "    <tr>\n",
              "      <th>4</th>\n",
              "      <td>USB Wall Charger, Surge Protector, 5 Outlet Ex...</td>\n",
              "      <td>Electronics</td>\n",
              "      <td>Accessories</td>\n",
              "      <td>3</td>\n",
              "    </tr>\n",
              "  </tbody>\n",
              "</table>\n",
              "</div>\n",
              "    <div class=\"colab-df-buttons\">\n",
              "\n",
              "  <div class=\"colab-df-container\">\n",
              "    <button class=\"colab-df-convert\" onclick=\"convertToInteractive('df-e74358ba-56bc-46bf-9b17-464d7c6d2496')\"\n",
              "            title=\"Convert this dataframe to an interactive table.\"\n",
              "            style=\"display:none;\">\n",
              "\n",
              "  <svg xmlns=\"http://www.w3.org/2000/svg\" height=\"24px\" viewBox=\"0 -960 960 960\">\n",
              "    <path d=\"M120-120v-720h720v720H120Zm60-500h600v-160H180v160Zm220 220h160v-160H400v160Zm0 220h160v-160H400v160ZM180-400h160v-160H180v160Zm440 0h160v-160H620v160ZM180-180h160v-160H180v160Zm440 0h160v-160H620v160Z\"/>\n",
              "  </svg>\n",
              "    </button>\n",
              "\n",
              "  <style>\n",
              "    .colab-df-container {\n",
              "      display:flex;\n",
              "      gap: 12px;\n",
              "    }\n",
              "\n",
              "    .colab-df-convert {\n",
              "      background-color: #E8F0FE;\n",
              "      border: none;\n",
              "      border-radius: 50%;\n",
              "      cursor: pointer;\n",
              "      display: none;\n",
              "      fill: #1967D2;\n",
              "      height: 32px;\n",
              "      padding: 0 0 0 0;\n",
              "      width: 32px;\n",
              "    }\n",
              "\n",
              "    .colab-df-convert:hover {\n",
              "      background-color: #E2EBFA;\n",
              "      box-shadow: 0px 1px 2px rgba(60, 64, 67, 0.3), 0px 1px 3px 1px rgba(60, 64, 67, 0.15);\n",
              "      fill: #174EA6;\n",
              "    }\n",
              "\n",
              "    .colab-df-buttons div {\n",
              "      margin-bottom: 4px;\n",
              "    }\n",
              "\n",
              "    [theme=dark] .colab-df-convert {\n",
              "      background-color: #3B4455;\n",
              "      fill: #D2E3FC;\n",
              "    }\n",
              "\n",
              "    [theme=dark] .colab-df-convert:hover {\n",
              "      background-color: #434B5C;\n",
              "      box-shadow: 0px 1px 3px 1px rgba(0, 0, 0, 0.15);\n",
              "      filter: drop-shadow(0px 1px 2px rgba(0, 0, 0, 0.3));\n",
              "      fill: #FFFFFF;\n",
              "    }\n",
              "  </style>\n",
              "\n",
              "    <script>\n",
              "      const buttonEl =\n",
              "        document.querySelector('#df-e74358ba-56bc-46bf-9b17-464d7c6d2496 button.colab-df-convert');\n",
              "      buttonEl.style.display =\n",
              "        google.colab.kernel.accessAllowed ? 'block' : 'none';\n",
              "\n",
              "      async function convertToInteractive(key) {\n",
              "        const element = document.querySelector('#df-e74358ba-56bc-46bf-9b17-464d7c6d2496');\n",
              "        const dataTable =\n",
              "          await google.colab.kernel.invokeFunction('convertToInteractive',\n",
              "                                                    [key], {});\n",
              "        if (!dataTable) return;\n",
              "\n",
              "        const docLinkHtml = 'Like what you see? Visit the ' +\n",
              "          '<a target=\"_blank\" href=https://colab.research.google.com/notebooks/data_table.ipynb>data table notebook</a>'\n",
              "          + ' to learn more about interactive tables.';\n",
              "        element.innerHTML = '';\n",
              "        dataTable['output_type'] = 'display_data';\n",
              "        await google.colab.output.renderOutput(dataTable, element);\n",
              "        const docLink = document.createElement('div');\n",
              "        docLink.innerHTML = docLinkHtml;\n",
              "        element.appendChild(docLink);\n",
              "      }\n",
              "    </script>\n",
              "  </div>\n",
              "\n",
              "\n",
              "<div id=\"df-4a046c25-432b-4a24-801e-0d95379e6ec6\">\n",
              "  <button class=\"colab-df-quickchart\" onclick=\"quickchart('df-4a046c25-432b-4a24-801e-0d95379e6ec6')\"\n",
              "            title=\"Suggest charts\"\n",
              "            style=\"display:none;\">\n",
              "\n",
              "<svg xmlns=\"http://www.w3.org/2000/svg\" height=\"24px\"viewBox=\"0 0 24 24\"\n",
              "     width=\"24px\">\n",
              "    <g>\n",
              "        <path d=\"M19 3H5c-1.1 0-2 .9-2 2v14c0 1.1.9 2 2 2h14c1.1 0 2-.9 2-2V5c0-1.1-.9-2-2-2zM9 17H7v-7h2v7zm4 0h-2V7h2v10zm4 0h-2v-4h2v4z\"/>\n",
              "    </g>\n",
              "</svg>\n",
              "  </button>\n",
              "\n",
              "<style>\n",
              "  .colab-df-quickchart {\n",
              "      --bg-color: #E8F0FE;\n",
              "      --fill-color: #1967D2;\n",
              "      --hover-bg-color: #E2EBFA;\n",
              "      --hover-fill-color: #174EA6;\n",
              "      --disabled-fill-color: #AAA;\n",
              "      --disabled-bg-color: #DDD;\n",
              "  }\n",
              "\n",
              "  [theme=dark] .colab-df-quickchart {\n",
              "      --bg-color: #3B4455;\n",
              "      --fill-color: #D2E3FC;\n",
              "      --hover-bg-color: #434B5C;\n",
              "      --hover-fill-color: #FFFFFF;\n",
              "      --disabled-bg-color: #3B4455;\n",
              "      --disabled-fill-color: #666;\n",
              "  }\n",
              "\n",
              "  .colab-df-quickchart {\n",
              "    background-color: var(--bg-color);\n",
              "    border: none;\n",
              "    border-radius: 50%;\n",
              "    cursor: pointer;\n",
              "    display: none;\n",
              "    fill: var(--fill-color);\n",
              "    height: 32px;\n",
              "    padding: 0;\n",
              "    width: 32px;\n",
              "  }\n",
              "\n",
              "  .colab-df-quickchart:hover {\n",
              "    background-color: var(--hover-bg-color);\n",
              "    box-shadow: 0 1px 2px rgba(60, 64, 67, 0.3), 0 1px 3px 1px rgba(60, 64, 67, 0.15);\n",
              "    fill: var(--button-hover-fill-color);\n",
              "  }\n",
              "\n",
              "  .colab-df-quickchart-complete:disabled,\n",
              "  .colab-df-quickchart-complete:disabled:hover {\n",
              "    background-color: var(--disabled-bg-color);\n",
              "    fill: var(--disabled-fill-color);\n",
              "    box-shadow: none;\n",
              "  }\n",
              "\n",
              "  .colab-df-spinner {\n",
              "    border: 2px solid var(--fill-color);\n",
              "    border-color: transparent;\n",
              "    border-bottom-color: var(--fill-color);\n",
              "    animation:\n",
              "      spin 1s steps(1) infinite;\n",
              "  }\n",
              "\n",
              "  @keyframes spin {\n",
              "    0% {\n",
              "      border-color: transparent;\n",
              "      border-bottom-color: var(--fill-color);\n",
              "      border-left-color: var(--fill-color);\n",
              "    }\n",
              "    20% {\n",
              "      border-color: transparent;\n",
              "      border-left-color: var(--fill-color);\n",
              "      border-top-color: var(--fill-color);\n",
              "    }\n",
              "    30% {\n",
              "      border-color: transparent;\n",
              "      border-left-color: var(--fill-color);\n",
              "      border-top-color: var(--fill-color);\n",
              "      border-right-color: var(--fill-color);\n",
              "    }\n",
              "    40% {\n",
              "      border-color: transparent;\n",
              "      border-right-color: var(--fill-color);\n",
              "      border-top-color: var(--fill-color);\n",
              "    }\n",
              "    60% {\n",
              "      border-color: transparent;\n",
              "      border-right-color: var(--fill-color);\n",
              "    }\n",
              "    80% {\n",
              "      border-color: transparent;\n",
              "      border-right-color: var(--fill-color);\n",
              "      border-bottom-color: var(--fill-color);\n",
              "    }\n",
              "    90% {\n",
              "      border-color: transparent;\n",
              "      border-bottom-color: var(--fill-color);\n",
              "    }\n",
              "  }\n",
              "</style>\n",
              "\n",
              "  <script>\n",
              "    async function quickchart(key) {\n",
              "      const quickchartButtonEl =\n",
              "        document.querySelector('#' + key + ' button');\n",
              "      quickchartButtonEl.disabled = true;  // To prevent multiple clicks.\n",
              "      quickchartButtonEl.classList.add('colab-df-spinner');\n",
              "      try {\n",
              "        const charts = await google.colab.kernel.invokeFunction(\n",
              "            'suggestCharts', [key], {});\n",
              "      } catch (error) {\n",
              "        console.error('Error during call to suggestCharts:', error);\n",
              "      }\n",
              "      quickchartButtonEl.classList.remove('colab-df-spinner');\n",
              "      quickchartButtonEl.classList.add('colab-df-quickchart-complete');\n",
              "    }\n",
              "    (() => {\n",
              "      let quickchartButtonEl =\n",
              "        document.querySelector('#df-4a046c25-432b-4a24-801e-0d95379e6ec6 button');\n",
              "      quickchartButtonEl.style.display =\n",
              "        google.colab.kernel.accessAllowed ? 'block' : 'none';\n",
              "    })();\n",
              "  </script>\n",
              "</div>\n",
              "\n",
              "    </div>\n",
              "  </div>\n"
            ],
            "application/vnd.google.colaboratory.intrinsic+json": {
              "type": "dataframe",
              "variable_name": "data",
              "summary": "{\n  \"name\": \"data\",\n  \"rows\": 62792,\n  \"fields\": [\n    {\n      \"column\": \"Description\",\n      \"properties\": {\n        \"dtype\": \"string\",\n        \"num_unique_values\": 48965,\n        \"samples\": [\n          \"The Muffler Shop Silver City NC\",\n          \"Oven Cake Mix - Vanilla\",\n          \"PUMA Mens Future 4.4 TT Soccer Cleats\"\n        ],\n        \"semantic_type\": \"\",\n        \"description\": \"\"\n      }\n    },\n    {\n      \"column\": \"Category\",\n      \"properties\": {\n        \"dtype\": \"category\",\n        \"num_unique_values\": 11,\n        \"samples\": [\n          \"Home\",\n          \"Electronics\",\n          \"Auto\"\n        ],\n        \"semantic_type\": \"\",\n        \"description\": \"\"\n      }\n    },\n    {\n      \"column\": \"Sub_Category\",\n      \"properties\": {\n        \"dtype\": \"category\",\n        \"num_unique_values\": 41,\n        \"samples\": [\n          \"Other_Baby\",\n          \"Guns\",\n          \"Electronics_misc\"\n        ],\n        \"semantic_type\": \"\",\n        \"description\": \"\"\n      }\n    },\n    {\n      \"column\": \"label\",\n      \"properties\": {\n        \"dtype\": \"number\",\n        \"std\": 2,\n        \"min\": 0,\n        \"max\": 10,\n        \"num_unique_values\": 11,\n        \"samples\": [\n          6,\n          3,\n          0\n        ],\n        \"semantic_type\": \"\",\n        \"description\": \"\"\n      }\n    }\n  ]\n}"
            }
          },
          "metadata": {},
          "execution_count": 3
        }
      ]
    },
    {
      "cell_type": "markdown",
      "source": [
        "# Select features and split train and test datasets"
      ],
      "metadata": {
        "id": "iPBhwtA0U8CS"
      }
    },
    {
      "cell_type": "code",
      "source": [
        "# Define params\n",
        "test_size = 0.2\n",
        "random_state = 42\n",
        "\n",
        "# Select relevant features and target variable\n",
        "features = ['Description']\n",
        "target = 'label'\n",
        "\n",
        "X = data[features]\n",
        "y = data[target]\n",
        "\n",
        "# Split the dataset into train and test sets\n",
        "X_train, X_test, y_train, y_test = train_test_split(X, y, test_size=test_size, random_state=random_state, )"
      ],
      "metadata": {
        "id": "x2A7UYuHU7Du"
      },
      "execution_count": 5,
      "outputs": []
    },
    {
      "cell_type": "markdown",
      "source": [
        "# Training phase\n",
        "In the training phase we will use train dataset along with cross valiation to train the model and tune hyper parameters. It includes:\n",
        "- Creating pipelines\n",
        "- vectorize text data\n",
        "- train models\n",
        "- tune hyperparameters\n",
        "- evaluate models usign cross validation\n",
        "\n"
      ],
      "metadata": {
        "id": "i1VKosp-Zr2V"
      }
    },
    {
      "cell_type": "code",
      "source": [
        "# Parâmetros e partições da validação cruzada\n",
        "scoring = 'accuracy'\n",
        "kfold = StratifiedKFold(n_splits=10, shuffle=True, random_state=random_state) # validação cruzada com estratificação\n",
        "\n",
        "results = []\n",
        "pipelines = []\n",
        "names = []\n",
        "\n",
        "# Models\n",
        "knn = ('KNN', KNeighborsClassifier())\n",
        "cart =  ('CART', DecisionTreeClassifier())\n",
        "nb = ('NB', MultinomialNB())\n",
        "svm = ('SVM', SVC(probability=True))\n",
        "\n",
        "# Scalers\n",
        "standard_scaler = ('StandardScaler', StandardScaler(with_mean=False))\n",
        "min_max_scaler = ('MinMaxScaler', MinMaxScaler())\n",
        "\n",
        "# Vectorize text data\n",
        "vectorizer = CountVectorizer()\n",
        "X_train_vec = vectorizer.fit_transform(X_train.Description)\n",
        "X_test_vec = vectorizer.transform(X_test)\n",
        "\n",
        "# Create pipelines for different models\n",
        "# pipelines.append(('KNN', Pipeline([knn])))\n",
        "# pipelines.append(('CART', Pipeline([cart])))\n",
        "pipelines.append(('NB', Pipeline([nb])))\n",
        "# pipelines.append(('SVM', Pipeline([svm])))\n",
        "# pipelines.append(('KNN-std', Pipeline([standard_scaler, knn])))\n",
        "# pipelines.append(('CART-std', Pipeline([standard_scaler, cart])))\n",
        "pipelines.append(('NB-std', Pipeline([standard_scaler, nb])))\n",
        "# pipelines.append(('SVM-std', Pipeline([standard_scaler, svm])))\n",
        "\n",
        "# Perform grid search and evaluate models\n",
        "# Define hyperparameters for grid search\n",
        "param_grids = {\n",
        "    'KNN': {'KNN__n_neighbors': [7, 14]},\n",
        "    'CART': {'CART__max_depth': [None, 5, 10]},\n",
        "    'NB': {},  # No hyperparameters for Gaussian Naive Bayes\n",
        "    'SVM': {'SVM__C': [0.1, 1, 10], 'SVM__kernel': ['linear', 'rbf']},\n",
        "    'KNN-std': {'KNN__n_neighbors': [3, 5, 7]},\n",
        "    'CART-std': {'CART__max_depth': [None, 5, 10]},\n",
        "    'NB-std': {},  # No hyperparameters for Gaussian Naive Bayes\n",
        "    'SVM-std': {'SVM__C': [0.1, 1, 10], 'SVM__kernel': ['linear', 'rbf']},\n",
        "}\n",
        "best_models = {}\n",
        "for name, model in pipelines:\n",
        "    # Tune hyper parameters\n",
        "    grid_search = GridSearchCV(model, param_grids[name], scoring=scoring, cv=kfold)\n",
        "    grid_search.fit(X_train_vec, y_train)\n",
        "    best_models[name] = grid_search.best_estimator_\n",
        "\n",
        "    # Run Cross validation and calculate accuracy on training dataset\n",
        "    cv_results = cross_val_score(best_models[name], X_train_vec, y_train, cv=kfold, scoring=scoring)\n",
        "    results.append(cv_results)\n",
        "    names.append(name)\n",
        "    msg = \"%s: accuracy %.3f mean (%.3f std)\" % (name, cv_results.mean(), cv_results.std()) # formatando para 3 casas decimais\n",
        "    print(msg)\n",
        "\n",
        "# Boxplot de comparação dos modelos\n",
        "fig = plt.figure(figsize=(25,6))\n",
        "fig.suptitle('Comparing model accuracy')\n",
        "ax = fig.add_subplot(111)\n",
        "plt.boxplot(results)\n",
        "ax.set_xticklabels(names, rotation=90)\n",
        "plt.show()"
      ],
      "metadata": {
        "colab": {
          "base_uri": "https://localhost:8080/",
          "height": 462
        },
        "id": "3iqtWLmqZqio",
        "outputId": "9b4c6208-311d-433a-c792-e3c3e53a28ed"
      },
      "execution_count": 8,
      "outputs": [
        {
          "output_type": "stream",
          "name": "stdout",
          "text": [
            "NB: accuracy 0.946 mean (0.004 std)\n",
            "NB-std: accuracy 0.898 mean (0.004 std)\n"
          ]
        },
        {
          "output_type": "display_data",
          "data": {
            "text/plain": [
              "<Figure size 2500x600 with 1 Axes>"
            ],
            "image/png": "[encoded data removed]"
          },
          "metadata": {}
        }
      ]
    },
    {
      "cell_type": "markdown",
      "source": [
        "# Final Evaluation against test dataset\n",
        "After evaluating model performance usign kfold on training dataset we will test the models against an unbiased test dataset to have a final opinion if our model was capable of generalize well of it overfitted during training phase"
      ],
      "metadata": {
        "id": "ihY320pefJuj"
      }
    },
    {
      "cell_type": "code",
      "source": [
        "# Calculate Accuracy of test Dataset\n",
        "# transform the test dataset\n",
        "X_test_vec = vectorizer.transform(X_test.Description)\n",
        "\n",
        "# Accuracy on test dataset\n",
        "for name, model in pipelines:\n",
        "  # make predictions on the test set\n",
        "  yhat = best_models[name].predict(X_test_vec)\n",
        "\n",
        "  # evaluate accuracy\n",
        "  acc = accuracy_score(y_test, yhat)\n",
        "  print(f'Model name: {name} and Test Accuracy:{acc:.2f}')"
      ],
      "metadata": {
        "colab": {
          "base_uri": "https://localhost:8080/"
        },
        "id": "5rcRbBWofNTJ",
        "outputId": "c99595b6-bb11-4ec9-d55e-3550019060f4"
      },
      "execution_count": 9,
      "outputs": [
        {
          "output_type": "stream",
          "name": "stdout",
          "text": [
            "Model name: NB and Test Accuracy:0.94\n",
            "Model name: NB-std and Test Accuracy:0.90\n"
          ]
        }
      ]
    },
    {
      "cell_type": "code",
      "source": [
        "# Classification report\n",
        "for name, model in pipelines:\n",
        "  # make predictions on the test set\n",
        "  yhat = best_models[name].predict(X_test_vec)\n",
        "  print(f\"Classification Report for {name}:\")\n",
        "  print(classification_report(y_test, yhat))"
      ],
      "metadata": {
        "colab": {
          "base_uri": "https://localhost:8080/"
        },
        "collapsed": true,
        "id": "qvMrNjHotOqL",
        "outputId": "e217abef-0446-4e2d-8804-c04b1197e77a"
      },
      "execution_count": 10,
      "outputs": [
        {
          "output_type": "stream",
          "name": "stdout",
          "text": [
            "Classification Report for NB:\n",
            "              precision    recall  f1-score   support\n",
            "\n",
            "           0       0.95      0.96      0.95       856\n",
            "           1       0.93      0.82      0.87       387\n",
            "           2       0.98      0.97      0.97      2607\n",
            "           3       0.99      0.98      0.98       932\n",
            "           4       0.87      0.94      0.90      1419\n",
            "           5       0.97      0.98      0.97      3485\n",
            "           6       0.91      0.93      0.92      2264\n",
            "           7       0.00      0.00      0.00         1\n",
            "           8       0.94      0.71      0.81       233\n",
            "           9       0.90      0.76      0.82       326\n",
            "          10       1.00      0.63      0.78        49\n",
            "\n",
            "    accuracy                           0.94     12559\n",
            "   macro avg       0.86      0.79      0.82     12559\n",
            "weighted avg       0.95      0.94      0.94     12559\n",
            "\n",
            "Classification Report for NB-std:\n",
            "              precision    recall  f1-score   support\n",
            "\n",
            "           0       0.92      0.89      0.91       856\n",
            "           1       0.69      0.80      0.74       387\n",
            "           2       0.98      0.96      0.97      2607\n",
            "           3       0.99      0.99      0.99       932\n",
            "           4       0.88      0.81      0.84      1419\n",
            "           5       0.98      0.92      0.95      3485\n",
            "           6       0.92      0.84      0.88      2264\n",
            "           7       0.00      0.00      0.00         1\n",
            "           8       0.75      0.84      0.79       233\n",
            "           9       0.70      0.84      0.76       326\n",
            "          10       0.53      0.96      0.69        49\n",
            "\n",
            "    accuracy                           0.90     12559\n",
            "   macro avg       0.76      0.80      0.77     12559\n",
            "weighted avg       0.93      0.90      0.91     12559\n",
            "\n"
          ]
        }
      ]
    },
    {
      "cell_type": "markdown",
      "source": [
        "# Select model and export model, label encoder and vectorizer"
      ],
      "metadata": {
        "id": "P9tWWnZIa200"
      }
    },
    {
      "cell_type": "code",
      "source": [
        "from joblib import dump\n",
        "from joblib import load"
      ],
      "metadata": {
        "id": "sIj-lRCba6cl"
      },
      "execution_count": 12,
      "outputs": []
    },
    {
      "cell_type": "code",
      "source": [
        "# Selected model\n",
        "selected_model_name = 'NB'\n",
        "\n",
        "# save the model\n",
        "dump(best_models[name], open('model.joblib', 'wb'))\n",
        "# save the vectorizer\n",
        "dump(vectorizer, open('vectorizer.joblib', 'wb'))\n",
        "# save the label encoder\n",
        "dump(label_encoder, open('label_encoder.joblib', 'wb'))"
      ],
      "metadata": {
        "id": "GufFlgl2kuKX"
      },
      "execution_count": 13,
      "outputs": []
    },
    {
      "cell_type": "markdown",
      "source": [
        "# Simulate model usage on small sample"
      ],
      "metadata": {
        "id": "BO0xffvckjXo"
      }
    },
    {
      "cell_type": "code",
      "source": [
        "# load the model\n",
        "model_joblib = load(open('model.joblib', 'rb'))\n",
        "# load the vectorizer\n",
        "vectorizer_joblib = load(open('vectorizer.joblib', 'rb'))\n",
        "# load the label encoder\n",
        "label_encoder_joblib = load(open('label_encoder.joblib', 'rb'))"
      ],
      "metadata": {
        "id": "gOf7H-D3bN9i"
      },
      "execution_count": 14,
      "outputs": []
    },
    {
      "cell_type": "code",
      "source": [
        "# Testing model with ramdom descriptions\n",
        "test_dict = {'Description':  [\"Nike\", \"McDonalds\", \"Groceries\", \"Market\", \"Gas\"]}\n",
        "test_data = pd.DataFrame.from_dict(test_dict)\n",
        "test_data_vec = vectorizer.transform(test_data.Description)\n",
        "\n",
        "# Predição de classes dos dados de entrada\n",
        "y_pred = model_joblib.predict(test_data_vec)\n",
        "decoded_labels = label_encoder_joblib.inverse_transform(y_pred)\n",
        "print(decoded_labels)"
      ],
      "metadata": {
        "colab": {
          "base_uri": "https://localhost:8080/"
        },
        "id": "ZivcAssCnJx0",
        "outputId": "e2c557bb-3d0f-47b6-ba70-8e0ee39b9d53"
      },
      "execution_count": 15,
      "outputs": [
        {
          "output_type": "stream",
          "name": "stdout",
          "text": [
            "['Clothes' 'Food' 'Food' 'Home' 'Auto']\n"
          ]
        }
      ]
    },
    {
      "cell_type": "markdown",
      "source": [
        "# Result Analysis\n",
        "\n",
        "esumindo os principais achados, analisando os resultados e levantando eventuais pontos de atenção. Sugerimos também incluir um bloco de texto de conclusão do problema como um todo, resumindo os principais pontos e fazendo um fechamento desta parte do trabalho."
      ],
      "metadata": {
        "id": "yTbxMPYR7P0m"
      }
    },
    {
      "cell_type": "code",
      "source": [],
      "metadata": {
        "id": "Dwe5JcouzZME"
      },
      "execution_count": null,
      "outputs": []
    }
  ]
}